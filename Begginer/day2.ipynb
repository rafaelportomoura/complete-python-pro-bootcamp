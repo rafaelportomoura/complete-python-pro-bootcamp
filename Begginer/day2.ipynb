{
 "cells": [
  {
   "cell_type": "markdown",
   "metadata": {},
   "source": [
    "# Day 2 - Beginner - Understanding Data Types and How to Manipulate Strings\n",
    "\n",
    "[Go to repository readme](../README.md)\n",
    "\n",
    "- [Primitive Data Types](#primitive-data-types)\n",
    "- [Type Error, Type Checking and Type Conversion](#type-error-type-checking-and-type-conversion)\n",
    "- [Exercise 1 - Data Types](#exercise-1---data-types)\n",
    "- [Mathematical Operations in Python](#mathematical-operations-in-python)\n",
    "- [Exercise 2 - BMI Calculator](#exercise-2---bmi-calculator)\n",
    "- [Number Manipulation and F Strings in Python](#number-manipulation-and-f-strings-in-python)\n",
    "- [Exercise 3 - Life in Weeks](#exercise-3---life-in-weeks)\n",
    "- [Tip Calculator](#tip-calculator)\n",
    "\n",
    "# Primitive Data Types\n",
    "\n",
    "[Top of page](#day-2---beginner---understanding-data-types-and-how-to-manipulate-strings)\n",
    "\n",
    "- String\n",
    "- Float\n",
    "- Int\n",
    "- Boolean"
   ]
  },
  {
   "cell_type": "code",
   "execution_count": 3,
   "metadata": {},
   "outputs": [
    {
     "name": "stdout",
     "output_type": "stream",
     "text": [
      "String: \n",
      "H\n",
      "123345\n",
      "\n",
      "Integer\n",
      "468\n",
      "123456789\n",
      "\n",
      "Float\n",
      "3.14159\n",
      "\n",
      "Boolean\n",
      "True\n",
      "False\n"
     ]
    }
   ],
   "source": [
    "# String\n",
    "print(\"String: \")\n",
    "print(\"Hello\"[0])\n",
    "print(\"123\"+\"345\")\n",
    "\n",
    "# Integer\n",
    "print(\"\\nInteger\")\n",
    "print(123 + 345)\n",
    "print(123_456_789)\n",
    "\n",
    "# Float\n",
    "print(\"\\nFloat\")\n",
    "print(3.14159)\n",
    "\n",
    "# Boolean\n",
    "print(\"\\nBoolean\")\n",
    "print(True)\n",
    "print(False)\n"
   ]
  },
  {
   "cell_type": "markdown",
   "metadata": {},
   "source": [
    "# Type Error, Type Checking and Type Conversion\n",
    "\n",
    "[Top of page](#day-2---beginner---understanding-data-types-and-how-to-manipulate-strings)\n",
    "\n",
    "## Type Error"
   ]
  },
  {
   "cell_type": "code",
   "execution_count": 9,
   "metadata": {},
   "outputs": [
    {
     "ename": "TypeError",
     "evalue": "object of type 'int' has no len()",
     "output_type": "error",
     "traceback": [
      "\u001b[0;31m---------------------------------------------------------------------------\u001b[0m",
      "\u001b[0;31mTypeError\u001b[0m                                 Traceback (most recent call last)",
      "Cell \u001b[0;32mIn [9], line 1\u001b[0m\n\u001b[0;32m----> 1\u001b[0m \u001b[38;5;28mlen\u001b[39m(\u001b[38;5;241m2\u001b[39m)\n",
      "\u001b[0;31mTypeError\u001b[0m: object of type 'int' has no len()"
     ]
    }
   ],
   "source": [
    "len(2)"
   ]
  },
  {
   "cell_type": "markdown",
   "metadata": {},
   "source": [
    "## Type Checking\n",
    "\n",
    "Function `type()`"
   ]
  },
  {
   "cell_type": "code",
   "execution_count": 12,
   "metadata": {},
   "outputs": [
    {
     "name": "stdout",
     "output_type": "stream",
     "text": [
      "<class 'int'>\n",
      "<class 'str'>\n",
      "<class 'float'>\n",
      "<class 'bool'>\n"
     ]
    }
   ],
   "source": [
    "variable = 2_000\n",
    "print(type(variable))\n",
    "\n",
    "variable = \"string\"\n",
    "print(type(variable))\n",
    "\n",
    "variable = 2.2\n",
    "print(type(variable))\n",
    "\n",
    "variable = True\n",
    "print(type(variable))"
   ]
  },
  {
   "cell_type": "markdown",
   "metadata": {},
   "source": [
    "## Type Conversion\n",
    "\n",
    "- String: `str()`\n",
    "- Float: `float()`\n",
    "- Integer: `int()`\n",
    "- Boolean: `bool()`"
   ]
  },
  {
   "cell_type": "code",
   "execution_count": 16,
   "metadata": {},
   "outputs": [
    {
     "name": "stdout",
     "output_type": "stream",
     "text": [
      "value\ttype\n",
      "2 \t <class 'str'>\n",
      "2 \t <class 'int'>\n",
      "2.0 \t <class 'float'>\n",
      "True \t <class 'bool'>\n"
     ]
    }
   ],
   "source": [
    "print('value\\ttype')\n",
    "\n",
    "variable = str(2)\n",
    "print(variable,\"\\t\", type(variable))\n",
    "\n",
    "variable = int(2)\n",
    "print(variable,\"\\t\", type(variable))\n",
    "\n",
    "variable = float(2)\n",
    "print(variable,\"\\t\", type(variable))\n",
    "\n",
    "variable = bool(2)\n",
    "print(variable,\"\\t\", type(variable))"
   ]
  },
  {
   "cell_type": "markdown",
   "metadata": {},
   "source": [
    "# Exercise 1 - Data Types\n",
    "\n",
    "[Top of page](#day-2---beginner---understanding-data-types-and-how-to-manipulate-strings)\n",
    "\n",
    "## Instructions\n",
    "\n",
    "Write a program that adds the digits in a 2 digit number. e.g. if the input was 35, then the output should be 3 + 5 = 8\n",
    "\n",
    "Warning. Do not change the code on lines 1-3. Your program should work for different inputs. e.g. any two-digit number.\n",
    "\n",
    "### Example Input\n",
    "\n",
    "```\n",
    "39\n",
    "```\n",
    "\n",
    "### Example Output\n",
    "\n",
    "```\n",
    "3 + 9 = 12\n",
    "12\n",
    "```"
   ]
  },
  {
   "cell_type": "code",
   "execution_count": 18,
   "metadata": {},
   "outputs": [
    {
     "name": "stdout",
     "output_type": "stream",
     "text": [
      "12\n"
     ]
    }
   ],
   "source": [
    "str_num = str(input(\"Type a two digit integer number: \"))\n",
    "\n",
    "a = int(str_num[0])\n",
    "b = int(str_num[1])\n",
    "\n",
    "print(a+b)"
   ]
  },
  {
   "cell_type": "markdown",
   "metadata": {},
   "source": [
    "# Mathematical Operations in Python\n",
    "\n",
    "[Top of page](#day-2---beginner---understanding-data-types-and-how-to-manipulate-strings)\n",
    "\n",
    "## Priority \n",
    "\n",
    "Left to right\n",
    "\n",
    "PEMDAS\n",
    "- Parentheses `()`\n",
    "- Exponents `**`\n",
    "- Multiplication `*`, Division `/`, Modulus `%` and Floor Division `//`\n",
    "- Addition `+`\n",
    "- Subtraction `-`\n"
   ]
  },
  {
   "cell_type": "code",
   "execution_count": 27,
   "metadata": {},
   "outputs": [
    {
     "name": "stdout",
     "output_type": "stream",
     "text": [
      "<class 'float'>\n",
      "8\n",
      "5\n",
      "1\n"
     ]
    }
   ],
   "source": [
    "3 + 5\n",
    "7 - 4\n",
    "3 * 2\n",
    "6 / 3\n",
    "print(type(6 / 3))\n",
    "2 ** 2\n",
    "print(2 ** 3)\n",
    "print(11 // 2)\n",
    "print(11 % 2)"
   ]
  },
  {
   "cell_type": "markdown",
   "metadata": {},
   "source": [
    "# Exercise 2 - BMI Calculator\n",
    "\n",
    "[Top of page](#day-2---beginner---understanding-data-types-and-how-to-manipulate-strings)\n",
    "\n",
    "## Instructions\n",
    "\n",
    "Write a program that calculates the Body Mass Index (BMI) from a user's weight and height.\n",
    "\n",
    "The BMI is a measure of some's weight taking into account their height. e.g. If a tall person and a short person both weigh the same amount, the short person is usually more overweight.\n",
    "\n",
    "The BMI is calculated by dividing a person's weight (in kg) by the square of their height (in m):\n",
    "\n",
    "$$ BMI = { weight(kg) \\over height^2(m^2)} $$\n",
    "\n",
    "Warning you should convert the result to a whole number.\n",
    "\n",
    "### Example Input\n",
    "\n",
    "```\n",
    "weight = 80\n",
    "height = 1.75\n",
    "```\n",
    "\n",
    "### Example Output\n",
    "\n",
    "```\n",
    "80 ÷ (1.75 x 1.75) = 26.122448979591837\n",
    "26\n",
    "```"
   ]
  },
  {
   "cell_type": "code",
   "execution_count": 32,
   "metadata": {},
   "outputs": [
    {
     "name": "stdout",
     "output_type": "stream",
     "text": [
      "26\n"
     ]
    }
   ],
   "source": [
    "height = float(input('enter your height in m: '))\n",
    "weight = float(input('enter your weight in kg: '))\n",
    "\n",
    "bmi = weight / (height ** 2)\n",
    "\n",
    "print(int(bmi))"
   ]
  },
  {
   "cell_type": "markdown",
   "metadata": {},
   "source": [
    "# Number Manipulation and F Strings in Python\n",
    "\n",
    "[Top of page](#day-2---beginner---understanding-data-types-and-how-to-manipulate-strings)\n",
    "\n",
    "## Number precision \n",
    "\n",
    "The round function, rounds a number precisely, passes through the second parameter"
   ]
  },
  {
   "cell_type": "code",
   "execution_count": 25,
   "metadata": {},
   "outputs": [
    {
     "name": "stdout",
     "output_type": "stream",
     "text": [
      "3\n",
      "2.7\n",
      "2.67\n"
     ]
    }
   ],
   "source": [
    "print( round( 8 / 3 ) )\n",
    "print( round( 8 / 3 , 1 ) )\n",
    "print( round( 8 / 3 , 2 ) )"
   ]
  },
  {
   "cell_type": "markdown",
   "metadata": {},
   "source": [
    "## Number manipulation\n",
    "\n",
    "[Python operators](https://www.w3schools.com/python/python_operators.asp)"
   ]
  },
  {
   "cell_type": "code",
   "execution_count": 30,
   "metadata": {},
   "outputs": [
    {
     "name": "stdout",
     "output_type": "stream",
     "text": [
      "2.6666666666666665 <class 'float'>\n",
      "2 <class 'int'>\n",
      "1\n",
      "0\n",
      "4\n",
      "1.0\n"
     ]
    }
   ],
   "source": [
    "result = 8 / 3\n",
    "print(result,type(result))\n",
    "\n",
    "result = 8 // 3\n",
    "print(result, type(result))\n",
    "\n",
    "result = 0\n",
    "result += 1 \n",
    "print(result)\n",
    "\n",
    "result = 1 \n",
    "result -= 1\n",
    "print(result)\n",
    "\n",
    "result = 2\n",
    "result *= 2\n",
    "print(result)\n",
    "\n",
    "result = 4 / 2\n",
    "result /= 2\n",
    "print(result)"
   ]
  },
  {
   "cell_type": "markdown",
   "metadata": {},
   "source": [
    "## F-String"
   ]
  },
  {
   "cell_type": "code",
   "execution_count": 34,
   "metadata": {},
   "outputs": [
    {
     "name": "stdout",
     "output_type": "stream",
     "text": [
      "The value of integer is 1, float is 2.2 and boolean is True\n"
     ]
    }
   ],
   "source": [
    "integer = 1\n",
    "float_number = 2.2\n",
    "boolean = True\n",
    "\n",
    "string = f'The value of integer is {integer}, float is {float_number} and boolean is {boolean}'\n",
    "\n",
    "print(string)"
   ]
  },
  {
   "cell_type": "markdown",
   "metadata": {},
   "source": [
    "# Exercise 3 - Life in Weeks\n",
    "\n",
    "[Top of page](#day-2---beginner---understanding-data-types-and-how-to-manipulate-strings)\n",
    "\n",
    "\n",
    "## Instructions\n",
    "\n",
    "I was reading this article by Tim Urban - Your Life in Weeks and realised just how little time we actually have.\n",
    "\n",
    "https://waitbutwhy.com/2014/05/life-weeks.html\n",
    "\n",
    "Create a program using maths and f-Strings that tells us how many days, weeks, months we have left if we live until 90 years old.\n",
    "\n",
    "It will take your current age as the input and output a message with our time left in this format:\n",
    "\n",
    "> You have x days, y weeks, and z months left.\n",
    "\n",
    "Where x, y and z are replaced with the actual calculated numbers.\n",
    "\n",
    "Warning your output should match the Example Output format exactly, even the positions of the commas and full stops.\n",
    "\n",
    "### Example Input\n",
    "\n",
    "```\n",
    "56\n",
    "```\n",
    "\n",
    "### Example Output\n",
    "\n",
    "```\n",
    "You have 12410 days, 1768 weeks, and 408 months left.\n",
    "```"
   ]
  },
  {
   "cell_type": "code",
   "execution_count": 39,
   "metadata": {},
   "outputs": [
    {
     "name": "stdout",
     "output_type": "stream",
     "text": [
      "You have 12410 days, 1768 weeks, and 408 months left.\n"
     ]
    }
   ],
   "source": [
    "age = int(input(\"What is your current age?\"))\n",
    "\n",
    "years = 90 - age\n",
    "months = years * 12\n",
    "weeks = years * 52\n",
    "days = years * 365\n",
    "\n",
    "print(f'You have {days} days, {weeks} weeks, and {months} months left.')"
   ]
  },
  {
   "cell_type": "markdown",
   "metadata": {},
   "source": [
    "# Tip Calculator\n",
    "\n",
    "Create a program that calculates the final amount with tip divided by a group of people\n",
    "\n",
    "Example\n",
    "\n",
    ">If the bill was $150.00, split between 5 people, with 12% tip.   \n",
    ">Each person should pay (150.00 / 5) * 1.12 = 33.6  \n",
    ">Format the result to 2 decimal places = 33.60  "
   ]
  },
  {
   "cell_type": "code",
   "execution_count": 48,
   "metadata": {},
   "outputs": [
    {
     "name": "stdout",
     "output_type": "stream",
     "text": [
      "Welcome to the tip calculator!\n",
      "Each person should pay: $33.60\n"
     ]
    }
   ],
   "source": [
    "print(\"Welcome to the tip calculator!\")\n",
    "bill = float(input(\"What was the total bill? $\"))\n",
    "tip = int(input(\"What percentage tip would you like to give? 10, 12, or 15? \"))\n",
    "people = int(input(\"How many people to split the bill?\"))\n",
    "\n",
    "\n",
    "tip_as_percent = tip / 100\n",
    "total_tip_amount = tip_as_percent * bill\n",
    "total_bill = bill + total_tip_amount\n",
    "per_person = total_bill / people\n",
    "# final_amount = format(per_person,'.2f')\n",
    "final_amount = \"{:.2f}\".format(per_person)\n",
    "\n",
    "print(f\"Each person should pay: ${final_amount}\")"
   ]
  }
 ],
 "metadata": {
  "kernelspec": {
   "display_name": "Python 3.10.0 64-bit ('3.10.0')",
   "language": "python",
   "name": "python3"
  },
  "language_info": {
   "codemirror_mode": {
    "name": "ipython",
    "version": 3
   },
   "file_extension": ".py",
   "mimetype": "text/x-python",
   "name": "python",
   "nbconvert_exporter": "python",
   "pygments_lexer": "ipython3",
   "version": "3.10.0"
  },
  "orig_nbformat": 4,
  "vscode": {
   "interpreter": {
    "hash": "cf9fcc9edbe16111a213ad5d1a7872f88c959e52e38c613d9dece10da60270ae"
   }
  }
 },
 "nbformat": 4,
 "nbformat_minor": 2
}
