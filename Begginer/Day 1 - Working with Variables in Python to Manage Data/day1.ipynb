{
 "cells": [
  {
   "cell_type": "markdown",
   "metadata": {},
   "source": [
    "# Day 1 - Beginner - Working with Variables in Python to Manage Data\n",
    "\n",
    "[voltar](../README.md)"
   ]
  },
  {
   "cell_type": "code",
   "execution_count": null,
   "metadata": {},
   "outputs": [],
   "source": []
  }
 ],
 "metadata": {
  "kernelspec": {
   "display_name": "Python 3.10.0 64-bit ('3.10.0')",
   "language": "python",
   "name": "python3"
  },
  "language_info": {
   "name": "python",
   "version": "3.10.0"
  },
  "orig_nbformat": 4,
  "vscode": {
   "interpreter": {
    "hash": "cf9fcc9edbe16111a213ad5d1a7872f88c959e52e38c613d9dece10da60270ae"
   }
  }
 },
 "nbformat": 4,
 "nbformat_minor": 2
}
